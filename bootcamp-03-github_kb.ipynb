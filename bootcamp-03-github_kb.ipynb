{
 "cells": [
  {
   "cell_type": "markdown",
   "metadata": {},
   "source": [
    "<img style=\"float: left;\" src=\"earth-lab-logo-rgb.png\" width=\"150\" height=\"150\" />\n",
    "\n",
    "# Earth Analytics Education - Bootcamp Course Fall 2020"
   ]
  },
  {
   "cell_type": "markdown",
   "metadata": {},
   "source": [
    "### Important !! \n",
    "Before you turn in your assignment, make sure to run the entire notebook with a fresh kernel. To do this:\n",
    "\n",
    "* First, **restart the kernel** (in the menubar, select Kernel$\\rightarrow$Restart & Run All) and then \n",
    "\n",
    "In the cells below you will see the following\n",
    "For each code cell, you will replace the `raise NotImplementedError()` code with your code that addresses the activity challenge. \n",
    "```\n",
    "# YOUR CODE HERE\n",
    "raise NotImplementedError()\n",
    "```\n",
    "\n",
    "\n",
    "Any open ended questions will have a \"YOUR ANSWER HERE\" within a markdown cell. Replace that text with your answer also formatted using Markdown."
   ]
  },
  {
   "cell_type": "markdown",
   "metadata": {},
   "source": [
    "---"
   ]
  },
  {
   "cell_type": "markdown",
   "metadata": {
    "deletable": false,
    "editable": false,
    "nbgrader": {
     "cell_type": "markdown",
     "checksum": "56a878b418f243cf205b57a515cf4a12",
     "grade": false,
     "grade_id": "cell-61765148beeeee6c",
     "locked": true,
     "schema_version": 3,
     "solution": false,
     "task": false
    }
   },
   "source": [
    "# Week 3 Homework - GitHub & A Plotting Preview\n",
    "\n",
    "In this assignment you will experiment with modifying plots and plot code.\n",
    "You will then use your new git and GitHub skills to submit the assignment to GitHub Classroom.\n",
    "\n",
    "<div class=\"alert-info\" markdown=\"1\">\n",
    "\n",
    "## Challenge 0 - Import Packages (5 points)\n",
    "To begin, you will import the pyplot module from matplotlib. **Matplotlib** is the base package used by many if not most open source plotting tools. There are many plotting tools out there! We teach basic **matplotlib** in this program as it will empower you to modify and customize plots using many different tools. \n",
    "Replace the code in the cell below that says `raise NotImplementedError()` with \n",
    "the code in this cell that imports  **matplotlib.pyplot** and **geopandas**.\n",
    "\n",
    "```python\n",
    "# Import pyplot\n",
    "import matplotlib.pyplot as plt\n",
    "\n",
    "# Geopandas is a popular tool for working with spatial vector data\n",
    "import geopandas as gpd\n",
    "```\n",
    "\n",
    "\n",
    "\n",
    "IMPORTANT: Try to make some changes to this assignment, commit and push your work well before the assignment is due! This will allow you time to ask for help with git and github if you need it! \n",
    "\n",
    "</div>"
   ]
  },
  {
   "cell_type": "code",
   "execution_count": 1,
   "metadata": {
    "deletable": false,
    "editable": false,
    "nbgrader": {
     "cell_type": "code",
     "checksum": "c6d376289b291a5e5cc0223c114879f1",
     "grade": false,
     "grade_id": "cell-db50393704255876",
     "locked": true,
     "schema_version": 3,
     "solution": false,
     "task": false
    }
   },
   "outputs": [],
   "source": [
    "# Tools for our autograder\n",
    "from matplotcheck.base import PlotTester\n",
    "from matplotcheck import autograde"
   ]
  },
  {
   "cell_type": "code",
   "execution_count": 2,
   "metadata": {
    "deletable": false,
    "nbgrader": {
     "cell_type": "code",
     "checksum": "0b4d708bdc8c6b353a4e77ec1b951e8c",
     "grade": false,
     "grade_id": "cell-ca47237ec247b334",
     "locked": false,
     "schema_version": 3,
     "solution": true,
     "task": false
    }
   },
   "outputs": [],
   "source": [
    "# YOUR CODE HERE\n",
    "import matplotlib.pyplot as plt\n",
    "import geopandas as gpd"
   ]
  },
  {
   "cell_type": "code",
   "execution_count": 3,
   "metadata": {
    "deletable": false,
    "editable": false,
    "nbgrader": {
     "cell_type": "code",
     "checksum": "21e6f4cad367bd325353834315a7434e",
     "grade": true,
     "grade_id": "cell-2c8fe04daccda4c8",
     "locked": true,
     "points": 5,
     "schema_version": 3,
     "solution": false,
     "task": false
    }
   },
   "outputs": [
    {
     "name": "stdout",
     "output_type": "stream",
     "text": [
      "Great - you imported pyplot correctly\n",
      "Great - you imported geopandas correctly\n",
      "Total points for your package imports (out of 5): 5.0\n"
     ]
    },
    {
     "data": {
      "text/plain": [
       "5.0"
      ]
     },
     "execution_count": 3,
     "metadata": {},
     "output_type": "execute_result"
    }
   ],
   "source": [
    "import_pts = 0\n",
    "try:\n",
    "    plt.show()\n",
    "    print(\"Great - you imported pyplot correctly\")\n",
    "    import_pts += 2.5\n",
    "except NameError:\n",
    "    print(\"Oops - make sure you imported the pyplot module from matplotlib\")  \n",
    "    \n",
    "try:\n",
    "    gpd.gpd\n",
    "    print(\"Great - you imported geopandas correctly\")\n",
    "    import_pts += 2.5\n",
    "except NameError:\n",
    "    print(\"Oops - make sure you imported geopandas\")  \n",
    "    \n",
    "print(\"Total points for your package imports (out of 5): {}\".format(import_pts))\n",
    "import_pts"
   ]
  },
  {
   "cell_type": "markdown",
   "metadata": {
    "deletable": false,
    "editable": false,
    "nbgrader": {
     "cell_type": "markdown",
     "checksum": "9eab3f40a750e1a89dd922746efe509e",
     "grade": false,
     "grade_id": "cell-81f863e515db8ee3",
     "locked": true,
     "schema_version": 3,
     "solution": false,
     "task": false
    }
   },
   "source": [
    "Below we create some data that you will use to create a basic plot.  "
   ]
  },
  {
   "cell_type": "code",
   "execution_count": 4,
   "metadata": {
    "deletable": false,
    "editable": false,
    "nbgrader": {
     "cell_type": "code",
     "checksum": "cb3fde7c2dbee1b765f107e337a346eb",
     "grade": false,
     "grade_id": "cell-965eb10d0ee62d0c",
     "locked": true,
     "schema_version": 3,
     "solution": false,
     "task": false
    }
   },
   "outputs": [],
   "source": [
    "# Monthly average precipitation (inches)\n",
    "boulder_monthly_precip = [\n",
    "    0.70,\n",
    "    0.75,\n",
    "    1.85,\n",
    "    2.93,\n",
    "    3.05,\n",
    "    2.02,\n",
    "    1.93,\n",
    "    1.62,\n",
    "    1.84,\n",
    "    1.31,\n",
    "    1.39,\n",
    "    0.84,\n",
    "]\n",
    "\n",
    "# List of month names for plotting\n",
    "months = [\n",
    "    \"Jan\",\n",
    "    \"Feb\",\n",
    "    \"Mar\",\n",
    "    \"Apr\",\n",
    "    \"May\",\n",
    "    \"June\",\n",
    "    \"July\",\n",
    "    \"Aug\",\n",
    "    \"Sept\",\n",
    "    \"Oct\",\n",
    "    \"Nov\",\n",
    "    \"Dec\",\n",
    "]"
   ]
  },
  {
   "cell_type": "markdown",
   "metadata": {
    "deletable": false,
    "editable": false,
    "nbgrader": {
     "cell_type": "markdown",
     "checksum": "f5f61fc199e964eabc2ac9d2ae07d9ff",
     "grade": false,
     "grade_id": "cell-ae6cd62278f85f1d",
     "locked": true,
     "schema_version": 3,
     "solution": false,
     "task": false
    }
   },
   "source": [
    "<img style=\"float: left;\" src=\"colored-bar.png\"/>\n",
    "\n",
    "## Plot Your Data Using Matplotlib\n",
    "\n",
    "You can add data to your plot by calling the desired `ax` object, which is the axis element that you previously defined with: \n",
    "\n",
    "`fig, ax = plt.subplots()`\n",
    "\n",
    "You can call the `.plot` method of the `ax` object and specify the arguments for the x axis (horizontal axis) and the y axis (vertical axis) of the plot as follows:\n",
    "\n",
    "`ax.plot(x_axis, y_axis)`\n",
    "\n",
    "In this example, you are adding data from lists that you previously defined, with `months` along the x axis and `boulder_monthly_precip` along the y axis.  "
   ]
  },
  {
   "cell_type": "markdown",
   "metadata": {
    "deletable": false,
    "editable": false,
    "nbgrader": {
     "cell_type": "markdown",
     "checksum": "752ec41f01235abf0ce4253258f9c97b",
     "grade": false,
     "grade_id": "cell-0b73e0f1c4e423f4",
     "locked": true,
     "schema_version": 3,
     "solution": false,
     "task": false
    }
   },
   "source": [
    "\n",
    "<div class=\"alert-info\" markdown=\"1\">\n",
    "\n",
    "## Challenge 1: Customize a Scatter Plot (15 points)\n",
    "\n",
    "Below, you see a scatter plot of the data. \n",
    "Do the following to customize this plot\n",
    "\n",
    "1. Blue is the default scatter plot color. We have assigned the plot to be blue in the cell below using the `color=\"blue\"` parameter. A parameter is a value that you use to customize a function or method. In this case you are customizing the `scatter()` function (it is actually called a method) using the `color=` parameter. Change the color to something other than blue! \n",
    "2. Add a\n",
    "   * title,\n",
    "   * x axis label, and\n",
    "   * y axis label\n",
    "   \n",
    "to your plot using the syntax:\n",
    "\n",
    "```\n",
    "ax.set(title = \"title text here\",\n",
    "       xlabel = \"x label text here\",\n",
    "       ylabel = \"y label text here\")\n",
    "```\n",
    "3. Change the marker type to something different using the list of marker options below.  \n",
    "   The default marker is `\"o\"`. If you don't specify `marker=` that is the marker type you will see in your plot.  \n",
    "\n",
    "|Marker symbol| Marker description\n",
    "|---|---|\n",
    "| . | \tpoint |\n",
    "| , |\tpixel |\n",
    "| o |\tcircle|\n",
    "| v | \ttriangle_down|\n",
    "| ^ | \ttriangle_up |\n",
    "| < |\ttriangle_left|\n",
    "| > | \ttriangle_right |\n",
    "\n",
    "* For more color options, visit the <a href=\"https://matplotlib.org/gallery/color/named_colors.html#sphx-glr-gallery-color-named-colors-py\" target=\"_blank\">matplotlib documentation</a> on color. \n",
    "</div>"
   ]
  },
  {
   "cell_type": "code",
   "execution_count": 5,
   "metadata": {
    "caption": "You can use ax.scatter to create a scatter plot."
   },
   "outputs": [
    {
     "data": {
      "image/png": "[encoded data removed]",
      "text/plain": [
       "<Figure size 720x432 with 1 Axes>"
      ]
     },
     "metadata": {
      "needs_background": "light"
     },
     "output_type": "display_data"
    }
   ],
   "source": [
    "### Modify the plot code below as instructed above\n",
    "# Define plot space\n",
    "fig, ax1 = plt.subplots(figsize=(10, 6))\n",
    "\n",
    "# Create scatter plot\n",
    "ax1.scatter(months, boulder_monthly_precip, color=\"purple\", marker=\".\")\n",
    "\n",
    "\n",
    "ax1.set(title=\"Precipitation (mm) for One Year\", \n",
    "        xlabel = \"Months\",\n",
    "       ylabel = \"Precipitation\")\n",
    "plt.show()\n",
    "\n",
    "\n",
    "\n",
    "\n",
    "\n",
    "### DO NOT MODIFY LINE BELOW ### \n",
    "plot_1_check = PlotTester(ax1)"
   ]
  },
  {
   "cell_type": "code",
   "execution_count": 6,
   "metadata": {
    "deletable": false,
    "editable": false,
    "nbgrader": {
     "cell_type": "code",
     "checksum": "7de3fd7c41b9c5332928598348224c03",
     "grade": true,
     "grade_id": "cell-1b00b33223b6423a",
     "locked": true,
     "points": 15,
     "schema_version": 3,
     "solution": false,
     "task": false
    }
   },
   "outputs": [],
   "source": [
    "# DO NOT MODIFY THIS CELL !"
   ]
  },
  {
   "cell_type": "markdown",
   "metadata": {
    "deletable": false,
    "editable": false,
    "nbgrader": {
     "cell_type": "markdown",
     "checksum": "6a926993f0fa74190b81e1b4c8af7364",
     "grade": false,
     "grade_id": "cell-06acb81b9243cf2d",
     "locked": true,
     "schema_version": 3,
     "solution": false,
     "task": false
    }
   },
   "source": [
    "<img style=\"float: left;\" src=\"colored-bar.png\"/>\n",
    "\n",
    "<div class=\"alert-info\" markdown=\"1\">\n",
    "\n",
    "## Challenge 2: Create a Barplot (15 points)\n",
    "\n",
    "Below you can see code for the same plot that you created above. \n",
    "Above however you used `scatter()`. In the plot code below, see what happens if you \n",
    "change `ax.scatter()` to `ax.bar()`\n",
    "\n",
    "Once you have a bar plot, do the following:\n",
    "\n",
    "1. Set the bar colors to a color that is NOT BLUE (not the default color!)\n",
    "2. Add a plot title, and x and y axes \n",
    "3. see what happens when you add `edgecolor = 'darkblue'` parameter to your `ax.bar()` plot call.  \n",
    "\n",
    "HINT: If you aren't sure how to do this be sure to check the <a href=\"http://localhost:4000/courses/scientists-guide-to-plotting-data-in-python/plot-with-matplotlib/introduction-to-matplotlib-plots/customize-plot-colors-labels-matplotlib/\" target=\"_blank\">online plotting textbook for help! </a>\n",
    "</div>"
   ]
  },
  {
   "cell_type": "code",
   "execution_count": 7,
   "metadata": {
    "caption": "You can use ax.bar to create a scatter bar."
   },
   "outputs": [
    {
     "data": {
      "image/png": "[encoded data removed]",
      "text/plain": [
       "<Figure size 720x432 with 1 Axes>"
      ]
     },
     "metadata": {
      "needs_background": "light"
     },
     "output_type": "display_data"
    }
   ],
   "source": [
    "# Modify the code below as instructed above\n",
    "# Define plot space\n",
    "fig, ax = plt.subplots(figsize=(10, 6))\n",
    "\n",
    "# Create bar plot\n",
    "ax.bar(months, boulder_monthly_precip, color=\"purple\", edgecolor = 'darkblue')\n",
    "ax.set(title=\"Precipitation (mm) for One Year\", \n",
    "        xlabel = \"Months\",\n",
    "       ylabel = \"Precipitation\")\n",
    "plt.show()\n",
    "\n",
    "\n",
    "### DO NOT MODIFY LINE BELOW###\n",
    "plot_2_check = PlotTester(ax)"
   ]
  },
  {
   "cell_type": "code",
   "execution_count": 8,
   "metadata": {
    "deletable": false,
    "editable": false,
    "nbgrader": {
     "cell_type": "code",
     "checksum": "6ee00ef89d12b43316811fa7295ba9f4",
     "grade": true,
     "grade_id": "cell-8e27fa9473a5570d",
     "locked": true,
     "points": 15,
     "schema_version": 3,
     "solution": false,
     "task": false
    }
   },
   "outputs": [],
   "source": [
    "# DO NOT MODIFY THIS CELL"
   ]
  },
  {
   "cell_type": "markdown",
   "metadata": {
    "deletable": false,
    "editable": false,
    "nbgrader": {
     "cell_type": "markdown",
     "checksum": "b2b4fc8bad81918a4c66251e69b29fbe",
     "grade": false,
     "grade_id": "cell-82a64d09c4b49492",
     "locked": true,
     "schema_version": 3,
     "solution": false,
     "task": false
    }
   },
   "source": [
    "<img style=\"float: left;\" src=\"colored-bar.png\"/>\n",
    "\n",
    "<div class=\"alert-info\" markdown=\"1\">\n",
    "\n",
    "## Challenge 3: Customize Colors For Bar Plots (15 points)\n",
    "\n",
    "You can customize your bar plot further by changing the outline color for each bar to be blue using the argument `edgecolor` and specifying a color from the **matplotlib** color options previously discussed. \n",
    "</div>"
   ]
  },
  {
   "cell_type": "code",
   "execution_count": 9,
   "metadata": {
    "caption": "You can adjust the bar fill and edge colors of a bar plot using the arguments color and edgecolor."
   },
   "outputs": [
    {
     "data": {
      "image/png": "[encoded data removed]",
      "text/plain": [
       "<Figure size 720x432 with 1 Axes>"
      ]
     },
     "metadata": {
      "needs_background": "light"
     },
     "output_type": "display_data"
    }
   ],
   "source": [
    "# Adjust the code below as instructed above\n",
    "# Define plot space\n",
    "fig, ax3 = plt.subplots(figsize=(10, 6))\n",
    "\n",
    "# Define x and y axes\n",
    "ax3.bar(months, boulder_monthly_precip, color=\"cyan\", edgecolor=\"yellow\")\n",
    "\n",
    "# Set plot title and axes labels\n",
    "ax3.set(\n",
    "    title=\"Average Monthly Precipitation\\nBoulder, CO\",\n",
    "    xlabel=\"Month\",\n",
    "    ylabel=\"Precipitation\\n(inches)\",\n",
    ")\n",
    "\n",
    "plt.show()"
   ]
  },
  {
   "cell_type": "markdown",
   "metadata": {
    "deletable": false,
    "editable": false,
    "nbgrader": {
     "cell_type": "markdown",
     "checksum": "49b29ff99ed52259485b8f945b8ea53b",
     "grade": false,
     "grade_id": "cell-2ff25a1a0cc9cc77",
     "locked": true,
     "schema_version": 3,
     "solution": false,
     "task": false
    }
   },
   "source": [
    "<img style=\"float: left;\" src=\"colored-bar.png\"/>\n",
    "\n",
    "<div class=\"alert-info\" markdown=\"1\">\n",
    "\n",
    "## Challenge 4: Modify a Map of Trails in Rocky Mountain National Park (15 points)\n",
    "\n",
    "Below you download 3 data layer that represent trails, trail heads and a boundary \n",
    "layer for Rocky Mountain National Park located in Colorado, USA. Modify the plot as follow\n",
    "\n",
    "1. Add a title to the plot.\n",
    "2. Modify the color **of each layer** in the plot\n",
    "3. Adjust the `marker` type that represents the trailheads\n",
    "</div>"
   ]
  },
  {
   "cell_type": "code",
   "execution_count": 10,
   "metadata": {
    "deletable": false,
    "editable": false,
    "nbgrader": {
     "cell_type": "code",
     "checksum": "ff820e47b31cc346f2d0a4984ace389d",
     "grade": false,
     "grade_id": "cell-14ae0dcc8dba3a4e",
     "locked": true,
     "schema_version": 3,
     "solution": false,
     "task": false
    }
   },
   "outputs": [],
   "source": [
    "rmnp_boundary = gpd.read_file(\n",
    "    \"https://opendata.arcgis.com/datasets/7cb5f22df8c44900a9f6632adb5f96a5_0.geojson\"\n",
    ")\n",
    "\n",
    "rmnp_trails = gpd.read_file(\n",
    "    \"https://opendata.arcgis.com/datasets/e1e0bcb87eb94960bc04f76e03936385_0.geojson\"\n",
    ")\n",
    "# Trailheads - 4326\n",
    "trailheads = gpd.read_file(\n",
    "    \"https://opendata.arcgis.com/datasets/55748f2f1d8a4db7aa26f7549e74be57_0.geojson\"\n",
    ")"
   ]
  },
  {
   "cell_type": "code",
   "execution_count": 11,
   "metadata": {},
   "outputs": [
    {
     "data": {
      "image/png": "[encoded data removed]",
      "text/plain": [
       "<Figure size 720x720 with 1 Axes>"
      ]
     },
     "metadata": {
      "needs_background": "light"
     },
     "output_type": "display_data"
    }
   ],
   "source": [
    "# Modify the code below to improve the map - there are three layers plotted but they are all blue\n",
    "# You can fix this!\n",
    "# Plot the trail data - modify the code below\n",
    "\n",
    "fig, ax4 = plt.subplots(figsize=(10, 10))\n",
    "rmnp_boundary.plot(ax=ax4, color='tab:olive')\n",
    "rmnp_trails.plot(ax=ax4,\n",
    "                 color=\"purple\",\n",
    "                 linestyles='--',\n",
    "                 label=\"Hiking Trails\")\n",
    "\n",
    "trailheads.plot(ax=ax4,\n",
    "                label=\"Trailheads\",\n",
    "                marker=\"^\",\n",
    "               color=\"red\")\n",
    "\n",
    "ax.set_axis_off()\n",
    "plt.show()\n",
    "\n",
    "\n",
    "### DO NOT MODIFY LINE BELOW###\n",
    "plot_3_check = PlotTester(ax4)"
   ]
  },
  {
   "cell_type": "code",
   "execution_count": 12,
   "metadata": {
    "deletable": false,
    "editable": false,
    "nbgrader": {
     "cell_type": "code",
     "checksum": "1f6819471a96b30ee601fe072fadc553",
     "grade": true,
     "grade_id": "cell-66ecfcd87df9a90c",
     "locked": true,
     "points": 15,
     "schema_version": 3,
     "solution": false,
     "task": false
    }
   },
   "outputs": [],
   "source": [
    "# DO NOT MODIFY THIS CELL!"
   ]
  },
  {
   "cell_type": "markdown",
   "metadata": {
    "deletable": false,
    "editable": false,
    "nbgrader": {
     "cell_type": "markdown",
     "checksum": "b5f212c26d424c32330bcf4ca8519973",
     "grade": false,
     "grade_id": "cell-8a17f9779ce5b78a",
     "locked": true,
     "points": 40,
     "schema_version": 3,
     "solution": false,
     "task": true
    }
   },
   "source": [
    "## Assignment Submitted Using Github (40 points)\n",
    "\n",
    "Once you commit this notebook to github (by the assignment deadline!),\n",
    "we will give you points for it being complete and in the correct location!\n",
    "\n",
    "Be sure to run the notebook from the beginning (restart and run all) to ensure the first cell begins at [1]\n",
    "and that everything runs properly!"
   ]
  },
  {
   "cell_type": "markdown",
   "metadata": {
    "deletable": false,
    "editable": false,
    "nbgrader": {
     "cell_type": "markdown",
     "checksum": "dd1a3fd25b703c85a3c90687bc7f78d8",
     "grade": false,
     "grade_id": "cell-a8987b2d5b3d7cdf",
     "locked": true,
     "points": 10,
     "schema_version": 3,
     "solution": false,
     "task": true
    }
   },
   "source": [
    "## Notebook Runs From Start to Finish (10 points)\n",
    "Assignment starts at [1] and runs all the way through on a fresh kernel. "
   ]
  },
  {
   "cell_type": "markdown",
   "metadata": {
    "deletable": false,
    "editable": false,
    "nbgrader": {
     "cell_type": "markdown",
     "checksum": "90402d348da358d2cfd6c5ee6a5f3f49",
     "grade": false,
     "grade_id": "cell-e4718cbb7dfc4480",
     "locked": true,
     "schema_version": 3,
     "solution": false,
     "task": false
    }
   },
   "source": [
    "<img style=\"float: left;\" src=\"colored-bar.png\"/>\n",
    "\n",
    "\n",
    "<div class=\"alert-info\" markdown=\"1\">\n",
    "\n",
    "## Additional Resources\n",
    "\n",
    "* Additional information about [color bars](http://joseph-long.com/writing/colorbars/) \n",
    "* An [in-depth guide to matplotlib](https://realpython.com/blog/python/python-matplotlib-guide/)\n",
    "\n",
    "</div>"
   ]
  }
 ],
 "metadata": {
  "anaconda-cloud": {},
  "jupytext": {
   "formats": "ipynb,md"
  },
  "kernelspec": {
   "display_name": "Python 3 (ipykernel)",
   "language": "python",
   "name": "python3"
  },
  "language_info": {
   "codemirror_mode": {
    "name": "ipython",
    "version": 3
   },
   "file_extension": ".py",
   "mimetype": "text/x-python",
   "name": "python",
   "nbconvert_exporter": "python",
   "pygments_lexer": "ipython3",
   "version": "3.8.13"
  },
  "toc": {
   "base_numbering": 1,
   "nav_menu": {},
   "number_sections": true,
   "sideBar": true,
   "skip_h1_title": true,
   "title_cell": "Table of Contents",
   "title_sidebar": "Contents",
   "toc_cell": false,
   "toc_position": {},
   "toc_section_display": true,
   "toc_window_display": true
  },
  "varInspector": {
   "cols": {
    "lenName": 16,
    "lenType": 16,
    "lenVar": 40
   },
   "kernels_config": {
    "python": {
     "delete_cmd_postfix": "",
     "delete_cmd_prefix": "del ",
     "library": "var_list.py",
     "varRefreshCmd": "print(var_dic_list())"
    },
    "r": {
     "delete_cmd_postfix": ") ",
     "delete_cmd_prefix": "rm(",
     "library": "var_list.r",
     "varRefreshCmd": "cat(var_dic_list()) "
    }
   },
   "types_to_exclude": [
    "module",
    "function",
    "builtin_function_or_method",
    "instance",
    "_Feature"
   ],
   "window_display": false
  }
 },
 "nbformat": 4,
 "nbformat_minor": 2
}
